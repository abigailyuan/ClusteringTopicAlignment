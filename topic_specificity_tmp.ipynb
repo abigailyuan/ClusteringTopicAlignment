{
 "cells": [
  {
   "cell_type": "code",
   "execution_count": 3,
   "id": "2aeae923-68c8-41b3-bef1-fc98250ecae8",
   "metadata": {},
   "outputs": [],
   "source": [
    "from topic_specificity import calculate_specificity_for_all_topics\n",
    "import pickle\n",
    "from Preprocessing.wsj import WSJ"
   ]
  },
  {
   "cell_type": "code",
   "execution_count": 5,
   "id": "a5ebda73-4305-455b-bd53-b0dc1e8c5e93",
   "metadata": {},
   "outputs": [
    {
     "ename": "NameError",
     "evalue": "name 'preprocess' is not defined",
     "output_type": "error",
     "traceback": [
      "\u001b[0;31m---------------------------------------------------------------------------\u001b[0m",
      "\u001b[0;31mNameError\u001b[0m                                 Traceback (most recent call last)",
      "Cell \u001b[0;32mIn [5], line 5\u001b[0m\n\u001b[1;32m      3\u001b[0m wsj   \u001b[38;5;241m=\u001b[39m WSJ()\n\u001b[1;32m      4\u001b[0m docs  \u001b[38;5;241m=\u001b[39m wsj\u001b[38;5;241m.\u001b[39mload(WSJ_PICKLE)\n\u001b[0;32m----> 5\u001b[0m texts \u001b[38;5;241m=\u001b[39m \u001b[43mpreprocess\u001b[49m(docs)\n\u001b[1;32m      6\u001b[0m \u001b[38;5;28mprint\u001b[39m(\u001b[38;5;124mf\u001b[39m\u001b[38;5;124m\"\u001b[39m\u001b[38;5;124mLoaded & preprocessed \u001b[39m\u001b[38;5;132;01m{\u001b[39;00m\u001b[38;5;28mlen\u001b[39m(texts)\u001b[38;5;132;01m}\u001b[39;00m\u001b[38;5;124m documents.\u001b[39m\u001b[38;5;124m\"\u001b[39m)\n\u001b[1;32m      8\u001b[0m dictionary \u001b[38;5;241m=\u001b[39m pickle\u001b[38;5;241m.\u001b[39mload(\u001b[38;5;28mopen\u001b[39m(\u001b[38;5;124m'\u001b[39m\u001b[38;5;124mResults/LDA/wsj_dictionary.dict\u001b[39m\u001b[38;5;124m'\u001b[39m,\u001b[38;5;124m'\u001b[39m\u001b[38;5;124mrb\u001b[39m\u001b[38;5;124m'\u001b[39m))\n",
      "\u001b[0;31mNameError\u001b[0m: name 'preprocess' is not defined"
     ]
    }
   ],
   "source": [
    " # 1. Load and preprocess\n",
    "WSJ_PICKLE  = \"ProcessedWSJ/wsj_raw.pkl\"\n",
    "wsj   = WSJ()\n",
    "docs  = wsj.load(WSJ_PICKLE)\n",
    "texts = preprocess(docs)\n",
    "print(f\"Loaded & preprocessed {len(texts)} documents.\")\n",
    "\n",
    "dictionary = pickle.load(open('Results/LDA/wsj_dictionary.dict','rb'))\n",
    "corpus = [dictionary.doc2bow(text) for text in texts]\n",
    "\n",
    "# 2. Load LDA model\n",
    "lda = pickle.load(open('Results/LDA/wsj_lda50.model','rb'))"
   ]
  },
  {
   "cell_type": "code",
   "execution_count": null,
   "id": "9ba38744-c7c0-42ba-9475-c6ce870d8b66",
   "metadata": {},
   "outputs": [],
   "source": [
    "spec_scores = calculate_specificity_for_all_topics(\n",
    "    model=lda,\n",
    "    corpus=corpus,\n",
    "    mode='lda',\n",
    "    threshold_mode='gmm',         # options: 'median', 'percentile', 'gmm'\n",
    "    specificity_mode='sqrt'       # options: 'diff', 'sqrt'\n",
    ")\n",
    "\n",
    "print(\"Specificity scores:\", spec_scores)"
   ]
  }
 ],
 "metadata": {
  "kernelspec": {
   "display_name": "Python 3 (ipykernel)",
   "language": "python",
   "name": "python3"
  },
  "language_info": {
   "codemirror_mode": {
    "name": "ipython",
    "version": 3
   },
   "file_extension": ".py",
   "mimetype": "text/x-python",
   "name": "python",
   "nbconvert_exporter": "python",
   "pygments_lexer": "ipython3",
   "version": "3.10.4"
  }
 },
 "nbformat": 4,
 "nbformat_minor": 5
}
