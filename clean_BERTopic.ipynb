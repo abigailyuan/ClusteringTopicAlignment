{
 "cells": [
  {
   "cell_type": "code",
   "execution_count": 1,
   "id": "66bfd594-218f-4782-8746-e29b467a7b98",
   "metadata": {},
   "outputs": [],
   "source": [
    "from bertopic import BERTopic\n",
    "from sklearn.feature_extraction.text import CountVectorizer\n",
    "import nltk, re, spacy, pickle\n"
   ]
  },
  {
   "cell_type": "code",
   "execution_count": 2,
   "id": "49a7f3d8-f37d-4c45-a4ce-9589567167c2",
   "metadata": {},
   "outputs": [],
   "source": [
    "collections = ['20ng', 'wsj', 'wiki']\n",
    "topic_models = ['lda','bertopic']\n",
    "\n",
    "# Placeholder for future Bertopic‐specific topic counts\n",
    "OPTIMAL_BERTOPIC_TOPICS = {\n",
    "    'wsj': 50,\n",
    "    'wiki':80,\n",
    "    '20ng':40\n",
    "}"
   ]
  },
  {
   "cell_type": "code",
   "execution_count": 3,
   "id": "e1544754-ab0a-422c-a017-6e852d1cf393",
   "metadata": {},
   "outputs": [],
   "source": [
    "def identity(x):         # returns tokens unchanged\n",
    "    return x\n"
   ]
  },
  {
   "cell_type": "code",
   "execution_count": 7,
   "id": "ae6956c3-d3f9-45e2-9f87-02233017b0ec",
   "metadata": {},
   "outputs": [
    {
     "name": "stderr",
     "output_type": "stream",
     "text": [
      "2025-06-23 12:22:06,563 - BERTopic - WARNING: When you use `pickle` to save/load a BERTopic model,please make sure that the environments in which you saveand load the model are **exactly** the same. The version of BERTopic,its dependencies, and python need to remain the same.\n"
     ]
    },
    {
     "name": "stdout",
     "output_type": "stream",
     "text": [
      "[('game', 0.05048387741717325), ('team', 0.039625324396245235), ('play', 0.030656911662835344), ('player', 0.03000357281171763), ('win', 0.02812369911995167), ('year', 0.023166878391370306), ('season', 0.0231021892285651), ('hockey', 0.020585262253893136), ('league', 0.018054549370035915), ('hit', 0.017042076975244756)]\n"
     ]
    },
    {
     "name": "stderr",
     "output_type": "stream",
     "text": [
      "2025-06-23 12:22:39,617 - BERTopic - WARNING: When you use `pickle` to save/load a BERTopic model,please make sure that the environments in which you saveand load the model are **exactly** the same. The version of BERTopic,its dependencies, and python need to remain the same.\n"
     ]
    },
    {
     "name": "stdout",
     "output_type": "stream",
     "text": [
      "[('share', 0.015063530306401387), ('say', 0.014771119921314552), ('company', 0.013742347801186456), ('million', 0.013100449619726609), ('stock', 0.012566718860859303), ('year', 0.008534055545636196), ('market', 0.008489784884636444), ('inc', 0.008078880288366229), ('new', 0.007830484376173022), ('sale', 0.00690521927735708)]\n"
     ]
    },
    {
     "name": "stderr",
     "output_type": "stream",
     "text": [
      "2025-06-23 12:22:55,656 - BERTopic - WARNING: When you use `pickle` to save/load a BERTopic model,please make sure that the environments in which you saveand load the model are **exactly** the same. The version of BERTopic,its dependencies, and python need to remain the same.\n"
     ]
    },
    {
     "name": "stdout",
     "output_type": "stream",
     "text": [
      "[('roman', 0.027518215393759274), ('rome', 0.020245745603117368), ('emperor', 0.013552410545035027), ('empire', 0.012133531555414022), ('city', 0.009376609408084734), ('caesar', 0.008756551622107584), ('century', 0.008219158485480839), ('senate', 0.00817566289578052), ('romans', 0.007783947419325011), ('military', 0.00763470483812735)]\n"
     ]
    }
   ],
   "source": [
    "for coll in collections:\n",
    "    # -------------------------------------------------\n",
    "    # 1) Load the raw-trained model\n",
    "    # -------------------------------------------------\n",
    "    topic_model = BERTopic.load(f\"Results/BERTOPIC/{coll}_bertopic_{OPTIMAL_BERTOPIC_TOPICS[coll]}.model\")\n",
    "\n",
    "    # -------------------------------------------------\n",
    "    # 2) Prepare cleaned documents  (same ordering!)\n",
    "    # -------------------------------------------------\n",
    "    clean_tokens = pickle.load(open(f\"Processed{coll.upper()}/{coll}_preprocessed.pkl\",'rb'))\n",
    "    clean_docs = [\" \".join(toks) for toks in clean_tokens]\n",
    "\n",
    "    # -------------------------------------------------\n",
    "    # 3) Create a new vectorizer (stop-word free, n-grams, etc.)\n",
    "    # -------------------------------------------------\n",
    "    vectorizer = CountVectorizer(\n",
    "    tokenizer=str.split,\n",
    "    preprocessor=None,\n",
    "    lowercase=False,\n",
    "    stop_words=None,\n",
    "    min_df=5,\n",
    "    ngram_range=(1, 2),   # still allowed—uses token tuples\n",
    ")\n",
    "\n",
    "    # -------------------------------------------------\n",
    "    # 4) Refresh topic representations ONLY\n",
    "    #    (clusters/embeddings stay untouched)\n",
    "    # -------------------------------------------------\n",
    "    topic_model.update_topics(\n",
    "    clean_docs,         #  <-- pass list[list[str]]  NOT strings\n",
    "    vectorizer_model=vectorizer,\n",
    "    top_n_words=10\n",
    ")\n",
    "\n",
    "    # -------------------------------------------------\n",
    "    # 5) Inspect or save\n",
    "    # -------------------------------------------------\n",
    "    print(topic_model.get_topic(0))           # now shows cleaned keywords\n",
    "    topic_model.save(f\"Results/BERTOPIC/{coll}_bertopic_{OPTIMAL_BERTOPIC_TOPICS[coll]}.model\")"
   ]
  },
  {
   "cell_type": "code",
   "execution_count": null,
   "id": "fa72b5ff-99bb-4d9e-90f1-dc7b8306fecf",
   "metadata": {},
   "outputs": [],
   "source": [
    "\n"
   ]
  }
 ],
 "metadata": {
  "kernelspec": {
   "display_name": "Python 3 (ipykernel)",
   "language": "python",
   "name": "python3"
  },
  "language_info": {
   "codemirror_mode": {
    "name": "ipython",
    "version": 3
   },
   "file_extension": ".py",
   "mimetype": "text/x-python",
   "name": "python",
   "nbconvert_exporter": "python",
   "pygments_lexer": "ipython3",
   "version": "3.10.4"
  }
 },
 "nbformat": 4,
 "nbformat_minor": 5
}
