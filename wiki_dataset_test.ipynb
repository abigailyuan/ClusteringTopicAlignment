{
 "cells": [
  {
   "cell_type": "code",
   "execution_count": 8,
   "id": "539b7549-d147-412f-bfe0-3affd7ddc7d2",
   "metadata": {},
   "outputs": [],
   "source": [
    "import json\n",
    "import pickle"
   ]
  },
  {
   "cell_type": "code",
   "execution_count": 2,
   "id": "f46727d7-2b44-4f2d-9fdb-47b5297df5b5",
   "metadata": {},
   "outputs": [],
   "source": [
    "categories = ['Culture', 'Geography', 'Health', 'History', 'Mathematics']"
   ]
  },
  {
   "cell_type": "code",
   "execution_count": 5,
   "id": "48bca4ae-e81e-4210-ab05-23d90fc2745c",
   "metadata": {},
   "outputs": [],
   "source": [
    "wiki_corpus = []\n",
    "for category in categories:\n",
    "    file_path = f'dataset/{category}/1.json'\n",
    "    with open(file_path, 'r', encoding='utf-8') as f:\n",
    "        data_dict = json.load(f)\n",
    "        documents = data_dict['documents'][-1000:]\n",
    "        wiki_corpus+= documents\n",
    "        "
   ]
  },
  {
   "cell_type": "code",
   "execution_count": 9,
   "id": "cfd5a01e-3573-4d42-a897-430f196b59d3",
   "metadata": {},
   "outputs": [],
   "source": [
    "wiki_raw = [d['content'] for d in wiki_corpus]\n",
    "pickle.dump(wiki_raw, open('ProcessedWIKI/wiki_raw.pkl','wb'))"
   ]
  },
  {
   "cell_type": "code",
   "execution_count": null,
   "id": "c848c67c-382e-4421-b489-dbc434ba6835",
   "metadata": {},
   "outputs": [],
   "source": []
  }
 ],
 "metadata": {
  "kernelspec": {
   "display_name": "Python 3 (ipykernel)",
   "language": "python",
   "name": "python3"
  },
  "language_info": {
   "codemirror_mode": {
    "name": "ipython",
    "version": 3
   },
   "file_extension": ".py",
   "mimetype": "text/x-python",
   "name": "python",
   "nbconvert_exporter": "python",
   "pygments_lexer": "ipython3",
   "version": "3.10.4"
  }
 },
 "nbformat": 4,
 "nbformat_minor": 5
}
