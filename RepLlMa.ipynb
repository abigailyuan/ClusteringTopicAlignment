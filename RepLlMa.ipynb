{
 "cells": [
  {
   "cell_type": "code",
   "execution_count": 1,
   "id": "4bf4ec86-4487-4a17-b4e2-393b7214523d",
   "metadata": {},
   "outputs": [
    {
     "name": "stderr",
     "output_type": "stream",
     "text": [
      "The cache for model files in Transformers v4.22.0 has been updated. Migrating your old cache. This is a one-time only operation. You can interrupt this and resume the migration later on by calling `transformers.utils.move_cache()`.\n"
     ]
    },
    {
     "data": {
      "application/vnd.jupyter.widget-view+json": {
       "model_id": "dad5961f2182449bab829ea33f7055d9",
       "version_major": 2,
       "version_minor": 0
      },
      "text/plain": [
       "0it [00:00, ?it/s]"
      ]
     },
     "metadata": {},
     "output_type": "display_data"
    }
   ],
   "source": [
    "import torch\n",
    "import pickle\n",
    "from transformers import AutoTokenizer, AutoModel\n",
    "from peft import PeftModel, PeftConfig"
   ]
  },
  {
   "cell_type": "code",
   "execution_count": 2,
   "id": "6b535af0-4290-42c6-8e46-cd07dd4905ec",
   "metadata": {},
   "outputs": [],
   "source": [
    "# Configuration\n",
    "MODEL_NAME = 'castorini/repllama-v1-7b-lora-passage' # replace with the actual RapLlaMA model ID\n",
    "OUTPUT_PATH = \"wsj_rapllama_embeddings.pkl\"\n",
    "MAX_LENGTH = 512  # model's max token length\n",
    "\n",
    "# Setup device\n",
    "device = torch.device(\"cuda\" if torch.cuda.is_available() else \"cpu\")"
   ]
  },
  {
   "cell_type": "code",
   "execution_count": 3,
   "id": "fa9dbc7a-f375-44af-ab0b-200b0c48a7e4",
   "metadata": {},
   "outputs": [],
   "source": [
    "def get_model(peft_model_name):\n",
    "    config = PeftConfig.from_pretrained(peft_model_name)\n",
    "    base_model = AutoModel.from_pretrained(config.base_model_name_or_path).to(device)\n",
    "    model = PeftModel.from_pretrained(base_model, peft_model_name).to(device)\n",
    "    model = model.merge_and_unload().to(device)\n",
    "    model.eval()\n",
    "    return model"
   ]
  },
  {
   "cell_type": "code",
   "execution_count": 4,
   "id": "df165ab1-3959-4af9-90fe-73f4a2e27d5b",
   "metadata": {},
   "outputs": [
    {
     "data": {
      "application/vnd.jupyter.widget-view+json": {
       "model_id": "51ab8cb5aa6048c5b7d3cbe8e4350328",
       "version_major": 2,
       "version_minor": 0
      },
      "text/plain": [
       "Loading checkpoint shards:   0%|          | 0/2 [00:00<?, ?it/s]"
      ]
     },
     "metadata": {},
     "output_type": "display_data"
    }
   ],
   "source": [
    "# Load tokenizer and model\n",
    "tokenizer = AutoTokenizer.from_pretrained('meta-llama/Llama-2-7b-hf')\n",
    "model = get_model('castorini/repllama-v1-7b-lora-doc')"
   ]
  },
  {
   "cell_type": "code",
   "execution_count": 5,
   "id": "3f6ab7c0-c437-4de9-82c1-3e8212ed8a1c",
   "metadata": {},
   "outputs": [],
   "source": [
    "def embed_text(document):\n",
    "    document_input = tokenizer(f'passage: {document}</s>', return_tensors='pt').to(device)\n",
    "    with torch.no_grad():\n",
    "        # compute document embedding\n",
    "        document_outputs = model(**document_input)\n",
    "        document_embeddings = document_outputs.last_hidden_state[0][-1]\n",
    "        document_embeddings = torch.nn.functional.normalize(document_embeddings, p=2, dim=0)\n",
    "    return document_embeddings"
   ]
  },
  {
   "cell_type": "code",
   "execution_count": 6,
   "id": "e1a3973d-e06a-4d74-a95b-ddd0d8762688",
   "metadata": {},
   "outputs": [],
   "source": [
    "def embed_corpus(documents):\n",
    "    \"\"\"\n",
    "    Embed a list of documents.\n",
    "\n",
    "    Args:\n",
    "        documents (List[str]): List of text passages to embed.\n",
    "\n",
    "    Returns:\n",
    "        torch.Tensor: A tensor of shape (len(documents), embedding_dim) containing\n",
    "                      the normalized embeddings for each document.\n",
    "    \"\"\"\n",
    "    # Compute embeddings for each document\n",
    "    embeddings = [embed_text(doc) for doc in documents]\n",
    "    \n",
    "    # Stack into a single tensor\n",
    "    embeddings = torch.stack(embeddings)\n",
    "    \n",
    "    return embeddings\n",
    "\n",
    "# Example usage:\n",
    "# docs = [\"First document.\", \"Second document.\", \"Third document.\"]\n",
    "# corpus_embeddings = embed_corpus(docs)\n",
    "# print(corpus_embeddings.shape)  # -> torch.Size([3, embedding_dim])"
   ]
  },
  {
   "cell_type": "code",
   "execution_count": null,
   "id": "b07a14a9-50c9-4f75-ad1d-3dee855e4b61",
   "metadata": {},
   "outputs": [],
   "source": []
  }
 ],
 "metadata": {
  "kernelspec": {
   "display_name": "Python 3 (ipykernel)",
   "language": "python",
   "name": "python3"
  },
  "language_info": {
   "codemirror_mode": {
    "name": "ipython",
    "version": 3
   },
   "file_extension": ".py",
   "mimetype": "text/x-python",
   "name": "python",
   "nbconvert_exporter": "python",
   "pygments_lexer": "ipython3",
   "version": "3.10.4"
  }
 },
 "nbformat": 4,
 "nbformat_minor": 5
}
