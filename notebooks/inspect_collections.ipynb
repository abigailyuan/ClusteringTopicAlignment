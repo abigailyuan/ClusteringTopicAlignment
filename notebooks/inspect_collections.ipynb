{
 "cells": [
  {
   "cell_type": "code",
   "execution_count": null,
   "id": "b7aff18d-96d1-483e-b3a5-8045b0311306",
   "metadata": {},
   "outputs": [],
   "source": [
    "import pickle"
   ]
  },
  {
   "cell_type": "code",
   "execution_count": 11,
   "id": "1f94944a-f761-457a-b62b-ca660438f5c4",
   "metadata": {},
   "outputs": [],
   "source": [
    "wiki = pickle.load(open('ProcessedWIKI/wiki_raw.pkl', 'rb'))"
   ]
  },
  {
   "cell_type": "code",
   "execution_count": 12,
   "id": "88f8d292-1c72-49f4-bf53-a5e180ce9cf8",
   "metadata": {},
   "outputs": [
    {
     "data": {
      "text/plain": [
       "'\\nAlternative culture  is a type of  culture  that exists outside or on the fringes of  mainstream  or  popular culture , usually under the domain of one or more  subcultures . These subcultures may have little or nothing in common besides their relative obscurity, but  cultural studies  uses this common basis of obscurity to classify them as  alternative cultures , or, taken as a whole,  the alternative culture .  Compare with the more politically charged term,  counterculture .\\nIn  London ,  Camden Town  is known for its alternative culture.\\n'"
      ]
     },
     "execution_count": 12,
     "metadata": {},
     "output_type": "execute_result"
    }
   ],
   "source": [
    "wiki[0]"
   ]
  },
  {
   "cell_type": "code",
   "execution_count": 13,
   "id": "6448e5a5-f653-41e7-a6ca-9cf38c04ef85",
   "metadata": {},
   "outputs": [
    {
     "data": {
      "text/plain": [
       "['alternative',\n",
       " 'culture',\n",
       " 'type',\n",
       " 'culture',\n",
       " 'exist',\n",
       " 'outside',\n",
       " 'fringe',\n",
       " 'mainstream',\n",
       " 'popular',\n",
       " 'culture',\n",
       " 'usually',\n",
       " 'domain',\n",
       " 'subculture',\n",
       " 'subculture',\n",
       " 'little',\n",
       " 'common',\n",
       " 'relative',\n",
       " 'obscurity',\n",
       " 'cultural',\n",
       " 'study',\n",
       " 'use',\n",
       " 'common',\n",
       " 'basis',\n",
       " 'obscurity',\n",
       " 'classify',\n",
       " 'alternative',\n",
       " 'culture',\n",
       " 'take',\n",
       " 'alternative',\n",
       " 'culture',\n",
       " 'compare',\n",
       " 'politically',\n",
       " 'charge',\n",
       " 'term',\n",
       " 'counterculture',\n",
       " 'london',\n",
       " 'camden',\n",
       " 'town',\n",
       " 'know',\n",
       " 'alternative',\n",
       " 'culture']"
      ]
     },
     "execution_count": 13,
     "metadata": {},
     "output_type": "execute_result"
    }
   ],
   "source": [
    "wiki_processed = pickle.load(open('ProcessedWIKI/wiki_preprocessed.pkl', 'rb'))\n",
    "wiki_processed[0]"
   ]
  },
  {
   "cell_type": "code",
   "execution_count": 17,
   "id": "88d34ebf-0665-471c-8cec-1e317a6c8a72",
   "metadata": {},
   "outputs": [
    {
     "name": "stdout",
     "output_type": "stream",
     "text": [
      "Processed corpus saved to ProcessedWIKI/wiki_preprocessed.pkl\n"
     ]
    }
   ],
   "source": [
    "# preprocess_wiki.py\n",
    "from Preprocessing.lda_preprocessing import load_raw_corpus, preprocess_corpus\n",
    "\n",
    "# Load your raw corpus (pre-parsed and pickled list of strings)\n",
    "wiki_raw = load_raw_corpus(\"ProcessedWIKI/wiki_raw.pkl\")\n",
    "\n",
    "# Preprocess and save\n",
    "preprocessed = preprocess_corpus(wiki_raw, save_path=\"ProcessedWIKI/wiki_preprocessed.pkl\")\n"
   ]
  },
  {
   "cell_type": "code",
   "execution_count": 18,
   "id": "8295db3d-9043-4b26-b252-80f118afe32a",
   "metadata": {},
   "outputs": [
    {
     "name": "stdout",
     "output_type": "stream",
     "text": [
      "Processed corpus saved to Processed20NG/20ng_preprocessed.pkl\n"
     ]
    }
   ],
   "source": [
    "ng20_raw = load_raw_corpus(\"Processed20NG/20ng_raw.pkl\")\n",
    "ng20_preprocessed = preprocess_corpus(ng20_raw,  save_path=\"Processed20NG/20ng_preprocessed.pkl\")"
   ]
  },
  {
   "cell_type": "code",
   "execution_count": null,
   "id": "259689be-1e45-4fdb-9336-2e3511918e3f",
   "metadata": {},
   "outputs": [],
   "source": [
    "# Load your raw corpus (pre-parsed and pickled list of strings)\n",
    "wsj_raw = load_raw_corpus(\"ProcessedWSJ/wsj_raw.pkl\")\n",
    "\n",
    "# Preprocess and save\n",
    "wsj_preprocessed = preprocess_corpus(wsj_raw, save_path=\"ProcessedWSJ/wsj_preprocessed.pkl\")\n"
   ]
  },
  {
   "cell_type": "code",
   "execution_count": null,
   "id": "832dbe6f-b469-408b-8086-a6ecc0b9625c",
   "metadata": {},
   "outputs": [],
   "source": []
  }
 ],
 "metadata": {
  "kernelspec": {
   "display_name": "Python 3 (ipykernel)",
   "language": "python",
   "name": "python3"
  },
  "language_info": {
   "codemirror_mode": {
    "name": "ipython",
    "version": 3
   },
   "file_extension": ".py",
   "mimetype": "text/x-python",
   "name": "python",
   "nbconvert_exporter": "python",
   "pygments_lexer": "ipython3",
   "version": "3.10.4"
  }
 },
 "nbformat": 4,
 "nbformat_minor": 5
}
