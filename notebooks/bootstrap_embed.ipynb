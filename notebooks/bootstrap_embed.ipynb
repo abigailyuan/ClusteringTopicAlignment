{
 "cells": [
  {
   "cell_type": "code",
   "execution_count": 18,
   "id": "b0d800e6-002b-4637-8ca0-c5b5aed357c6",
   "metadata": {},
   "outputs": [],
   "source": [
    "import pickle\n",
    "from bertopic import BERTopic\n",
    "import numpy as np\n",
    "from Mapping.map_topic_embedding import map_embeddings\n",
    "from Metrics.mms import average_mapped_improvement"
   ]
  },
  {
   "cell_type": "code",
   "execution_count": 2,
   "id": "e812fa88-40a7-4147-a89e-881ad8825109",
   "metadata": {},
   "outputs": [],
   "source": [
    "# Single “source of truth” for optimal topic counts:\n",
    "OPTIMAL_LDA_TOPICS = {\n",
    "    'wsj': 50,\n",
    "    'wiki': 80,\n",
    "    '20ng': 70\n",
    "}\n",
    "\n",
    "# Placeholder for future Bertopic‐specific topic counts\n",
    "OPTIMAL_BERTOPIC_TOPICS = {\n",
    "    'wsj': 50,\n",
    "    'wiki':70,\n",
    "    '20ng':40\n",
    "}"
   ]
  },
  {
   "cell_type": "code",
   "execution_count": 19,
   "id": "1f95a410-5c9c-4a41-b781-1952e529acdc",
   "metadata": {},
   "outputs": [],
   "source": [
    "def sample_columns(arr: np.ndarray, n: int, random_state=None) -> np.ndarray:\n",
    "    \"\"\"\n",
    "    Randomly sample n columns from a 2D array.\n",
    "\n",
    "    Parameters\n",
    "    ----------\n",
    "    arr : np.ndarray\n",
    "        Input array of shape (m, p).\n",
    "    n : int\n",
    "        Number of columns to sample (n <= p).\n",
    "    random_state : int or np.random.Generator, optional\n",
    "        Seed or Generator for reproducibility.\n",
    "\n",
    "    Returns\n",
    "    -------\n",
    "    np.ndarray\n",
    "        Sub-array of shape (m, n) containing the sampled columns.\n",
    "    \"\"\"\n",
    "    m, p = arr.shape\n",
    "    if not 0 < n <= p:\n",
    "        raise ValueError(f\"n must be between 1 and {p}, got {n}\")\n",
    "\n",
    "    # Create a random number generator\n",
    "    rng = np.random.default_rng(random_state)\n",
    "\n",
    "    # Choose n distinct column indices\n",
    "    cols = rng.choice(p, size=n, replace=False)\n",
    "\n",
    "    # Return the sub-array with those columns\n",
    "    return arr[:, cols]\n"
   ]
  },
  {
   "cell_type": "code",
   "execution_count": 14,
   "id": "e48fa116-e182-4a5e-99af-bf966650f0b0",
   "metadata": {},
   "outputs": [],
   "source": [
    "def sampling_pipeline(corpus, lang_model, topic_model, feature_range, n_bootstraps):\n",
    "    \n",
    "    # load embedding and get topic model paths\n",
    "    embedding = pickle.load(open(f'Processe{corpus.upper()}/{corpus}_{lang_model}_corpus_embeddings.pkl', 'rb'))\n",
    "    if topic_model == 'lda':\n",
    "        dim = OPTIMAL_LDA_TOPICS[corpus]\n",
    "    else:\n",
    "        dim = OPTIMAL_BERTOPIC_TOPICS[corpus]\n",
    "    topics_path = f'Results/LDA/{corpus}_topic_doc_matrix_{dim}.pkl'\n",
    "    topics = pickle.load(open(topics_path,'rb'))\n",
    "     \n",
    "    # set up feature range\n",
    "    start_feat = 10\n",
    "    end_feat = feature_range if feature_range <= embedding.shape[1] else embedding.shape[1]\n",
    "    \n",
    "    # start n_feature iteration\n",
    "    mms_dict = {}\n",
    "    for n in range(start_feat, end_feat, 10):\n",
    "        feature_result_list = []\n",
    "        \n",
    "        for i in range(n_bootstraps):\n",
    "            sample = sample_columns(embedding, n, random.random())\n",
    "            mapping = map_embeddings(\n",
    "                dataset=corpus,\n",
    "                lang_model=lang_model,\n",
    "                topic_model=topic_model,\n",
    "                dim=dim,\n",
    "                features=sample,\n",
    "                topics=topics,# or None\n",
    "                output_dir='Results',                     # where to save if needed\n",
    "                save=False                                # compute only, no file write\n",
    "            )\n",
    "            \n",
    "            avg_imp = average_mapped_improvement(\n",
    "                topic_model=topic_model,   # or 'lda'\n",
    "                dataset=corpus,           # e.g. 'wiki', '20ng', 'wsj'\n",
    "                n_topics=dim,              # the number of topics you used\n",
    "                mapping=mapping,          # your mapping object\n",
    "                threshold_mode='gmm',     # optional, defaults to 'gmm'\n",
    "                specificity_mode='diff'   # optional, defaults to 'diff'\n",
    "            )\n",
    "            print(f\"Average mapped specificity improvement: {avg_imp:.4f}\")\n",
    "            feature_result_list.append(avg_imp)\n",
    "        mms_dict[n] = feature_result_list\n",
    "            \n",
    "    return mms_dict \n",
    "            \n",
    "    "
   ]
  },
  {
   "cell_type": "code",
   "execution_count": 15,
   "id": "e269adbb-d33e-4c0b-b2a9-9531c2c35cc9",
   "metadata": {},
   "outputs": [],
   "source": [
    "embedding = pickle.load(open('ProcessedWIKI/wiki_repllama_corpus_embeddings.pkl','rb'))"
   ]
  },
  {
   "cell_type": "code",
   "execution_count": 32,
   "id": "5cd1a92a-e7d0-4bf3-8301-b935bc4c88cb",
   "metadata": {},
   "outputs": [],
   "source": [
    "features = sample_columns(embedding, 4096)\n",
    "topics_path = 'Results/LDA/wiki_topic_doc_matrix_80.pkl'\n",
    "topics = pickle.load(open(topics_path,'rb'))"
   ]
  },
  {
   "cell_type": "code",
   "execution_count": 33,
   "id": "f6455e7c-f856-4434-a478-b3abb9cc1ea7",
   "metadata": {},
   "outputs": [],
   "source": [
    "mapping = map_embeddings(\n",
    "                dataset='wiki',\n",
    "                lang_model='repllama',\n",
    "                topic_model='lda',\n",
    "                dim=80,\n",
    "                features=features,\n",
    "                topics=topics,# or None\n",
    "                output_dir='Results',                     # where to save if needed\n",
    "                save=False                                # compute only, no file write\n",
    "            )"
   ]
  },
  {
   "cell_type": "code",
   "execution_count": 34,
   "id": "4fb37ded-a9b8-4995-8e66-7f6909756d9f",
   "metadata": {},
   "outputs": [
    {
     "name": "stdout",
     "output_type": "stream",
     "text": [
      "Average mapped specificity improvement: 0.0714\n"
     ]
    }
   ],
   "source": [
    "avg_imp = average_mapped_improvement(\n",
    "    topic_model='lda',   # or 'lda'\n",
    "    dataset='wiki',           # e.g. 'wiki', '20ng', 'wsj'\n",
    "    n_topics=80,              # the number of topics you used\n",
    "    mapping=mapping,          # your mapping object\n",
    "    threshold_mode='gmm',     # optional, defaults to 'gmm'\n",
    "    specificity_mode='diff'   # optional, defaults to 'diff'\n",
    ")\n",
    "\n",
    "print(f\"Average mapped specificity improvement: {avg_imp:.4f}\")"
   ]
  },
  {
   "cell_type": "code",
   "execution_count": 35,
   "id": "bbf141db-cea8-4976-89bc-ed01631b1ad7",
   "metadata": {},
   "outputs": [],
   "source": [
    "wiki = pickle.load(open('ProcessedWIKI/wiki_raw.pkl','rb'))"
   ]
  },
  {
   "cell_type": "code",
   "execution_count": 37,
   "id": "40f2bdef-1caa-4073-a259-676607c9b775",
   "metadata": {},
   "outputs": [
    {
     "data": {
      "text/plain": [
       "'The  circuit of culture  is a theory or framework used in the area of  cultural studies .\\nThe theory was devised in 1997 by a group of theorists when studying the  Walkman  cassette player. The theory suggests that in studying a cultural text or artifact you must look at five aspects: its representation,  identity , production, consumption and regulation. Du Gay et al. suggest that \"taken together (these 5 points) complete a sort of circuit...through which any analysis of a cultural text...must pass if it is to be adequately studied.\"  &#91;1&#93;\\nGerard Goggin  openly uses this framework in his book  Cell Phone Culture: Mobile technology in everyday life  in order to fully understand the cell phone as a  cultural artifact . His book is split into four parts: production, consumption, regulation, and representation and identity (through looking at mobile convergences).  &#91;2&#93;\\n'"
      ]
     },
     "execution_count": 37,
     "metadata": {},
     "output_type": "execute_result"
    }
   ],
   "source": [
    "wiki[100]"
   ]
  },
  {
   "cell_type": "code",
   "execution_count": null,
   "id": "87bd936e-2af9-48fa-9304-c5a3b776608b",
   "metadata": {},
   "outputs": [],
   "source": []
  }
 ],
 "metadata": {
  "kernelspec": {
   "display_name": "Python 3 (ipykernel)",
   "language": "python",
   "name": "python3"
  },
  "language_info": {
   "codemirror_mode": {
    "name": "ipython",
    "version": 3
   },
   "file_extension": ".py",
   "mimetype": "text/x-python",
   "name": "python",
   "nbconvert_exporter": "python",
   "pygments_lexer": "ipython3",
   "version": "3.10.4"
  }
 },
 "nbformat": 4,
 "nbformat_minor": 5
}
