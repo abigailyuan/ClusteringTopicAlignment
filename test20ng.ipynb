{
 "cells": [
  {
   "cell_type": "code",
   "execution_count": 1,
   "id": "a4ae987b-d089-4db4-94d0-d61c4a9b4497",
   "metadata": {},
   "outputs": [],
   "source": [
    "from Preprocessing.ng20 import NG20"
   ]
  },
  {
   "cell_type": "code",
   "execution_count": 2,
   "id": "d2e3ca39-22c3-4012-b577-23a84c3addae",
   "metadata": {},
   "outputs": [
    {
     "name": "stdout",
     "output_type": "stream",
     "text": [
      "Sample Text:\n",
      " I was wondering if anyone out there could enlighten me on this car I saw\n",
      "the other day. It was a 2-door sports car, looked to be from the late 60s/\n",
      "early 70s. It was called a Bricklin. The doors were really small. In addition,\n",
      "the front bumper was separate from the rest of the body. This is \n",
      "all I know. If anyone can tellme a model name, engine specs, years\n",
      "of production, where this car is made, history, or whatever info you\n",
      "have on this funky looking car, please e-mail.\n",
      "Label Index: 7\n",
      "Label Name: rec.autos\n"
     ]
    }
   ],
   "source": [
    "# Initialize loader\n",
    "ng20 = NG20(remove_metadata=True)\n",
    "\n",
    "# Load data\n",
    "train = ng20.load_train()\n",
    "test = ng20.load_test()\n",
    "\n",
    "# Print sample\n",
    "text, label_index, label_name = ng20.get_sample('train', 0)\n",
    "print(\"Sample Text:\\n\", text)\n",
    "print(\"Label Index:\", label_index)\n",
    "print(\"Label Name:\", label_name)\n"
   ]
  },
  {
   "cell_type": "code",
   "execution_count": 3,
   "id": "ddac486a-d9fa-44d5-9d6b-04b9d52e38fa",
   "metadata": {},
   "outputs": [],
   "source": [
    "texts = ng20.get_all_texts()"
   ]
  },
  {
   "cell_type": "code",
   "execution_count": 4,
   "id": "6cd30dd7-6e94-4182-a8eb-1b1b60c7335f",
   "metadata": {},
   "outputs": [
    {
     "data": {
      "text/plain": [
       "18846"
      ]
     },
     "execution_count": 4,
     "metadata": {},
     "output_type": "execute_result"
    }
   ],
   "source": [
    "len(texts)"
   ]
  },
  {
   "cell_type": "code",
   "execution_count": 5,
   "id": "9e187ff3-ad39-4bb6-8938-0fe7099db2c8",
   "metadata": {},
   "outputs": [
    {
     "data": {
      "text/plain": [
       "'I was wondering if anyone out there could enlighten me on this car I saw\\nthe other day. It was a 2-door sports car, looked to be from the late 60s/\\nearly 70s. It was called a Bricklin. The doors were really small. In addition,\\nthe front bumper was separate from the rest of the body. This is \\nall I know. If anyone can tellme a model name, engine specs, years\\nof production, where this car is made, history, or whatever info you\\nhave on this funky looking car, please e-mail.'"
      ]
     },
     "execution_count": 5,
     "metadata": {},
     "output_type": "execute_result"
    }
   ],
   "source": [
    "texts[0]"
   ]
  },
  {
   "cell_type": "code",
   "execution_count": null,
   "id": "bed9db96-fc36-4051-96a2-b0c254b177e4",
   "metadata": {},
   "outputs": [],
   "source": []
  }
 ],
 "metadata": {
  "kernelspec": {
   "display_name": "Python 3 (ipykernel)",
   "language": "python",
   "name": "python3"
  },
  "language_info": {
   "codemirror_mode": {
    "name": "ipython",
    "version": 3
   },
   "file_extension": ".py",
   "mimetype": "text/x-python",
   "name": "python",
   "nbconvert_exporter": "python",
   "pygments_lexer": "ipython3",
   "version": "3.10.4"
  }
 },
 "nbformat": 4,
 "nbformat_minor": 5
}
